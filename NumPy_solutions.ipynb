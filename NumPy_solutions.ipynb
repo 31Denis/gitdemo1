{
 "cells": [
  {
   "cell_type": "markdown",
   "metadata": {
    "id": "lzLOWcD5kk6p"
   },
   "source": [
    "# Упражнения с NumPy \n",
    "\n",
    "Давайте проверим ваши знания. Мы начнем с нескольких простых задач, а затем вам будут заданы несколько более сложных вопросов.\n",
    "\n",
    "Важно! Код, который вы напишите в этом ноутбуке, вам нужно сохранить в виде файла c именем \"Numpy_solutions.ipynb\" в вашем личном репозитории на GitHub."
   ]
  },
  {
   "cell_type": "markdown",
   "metadata": {
    "id": "JOayKqsTkk6w"
   },
   "source": [
    "#### 1. Импорт NumPy "
   ]
  },
  {
   "cell_type": "code",
   "execution_count": 1,
   "metadata": {
    "id": "neu5laJgwdY0"
   },
   "outputs": [],
   "source": [
    "import numpy as np"
   ]
  },
  {
   "cell_type": "markdown",
   "metadata": {
    "id": "_iVNPGLckk6y"
   },
   "source": [
    "#### 2. Создать массив из 10 нулей"
   ]
  },
  {
   "cell_type": "code",
   "execution_count": 4,
   "metadata": {
    "colab": {
     "base_uri": "https://localhost:8080/"
    },
    "collapsed": true,
    "id": "AnBtBDbekk6y",
    "outputId": "9a3b5a9b-992d-463d-e485-b1d725e86748"
   },
   "outputs": [
    {
     "data": {
      "text/plain": [
       "array([0., 0., 0., 0., 0., 0., 0., 0., 0., 0.])"
      ]
     },
     "execution_count": 4,
     "metadata": {},
     "output_type": "execute_result"
    }
   ],
   "source": [
    "a = np.zeros((1,10))# Ваш код\n",
    "a.reshape(-1)"
   ]
  },
  {
   "cell_type": "code",
   "execution_count": null,
   "metadata": {
    "id": "HR8LCbhGkk64",
    "outputId": "b6e849d7-f9fa-4437-e779-9fa5e4a4df64"
   },
   "outputs": [
    {
     "data": {
      "text/plain": [
       "array([0., 0., 0., 0., 0., 0., 0., 0., 0., 0.])"
      ]
     },
     "execution_count": 2,
     "metadata": {},
     "output_type": "execute_result"
    }
   ],
   "source": [
    "# не пишите код в этой ячейке"
   ]
  },
  {
   "cell_type": "markdown",
   "metadata": {
    "id": "kU-uJl-Ekk66"
   },
   "source": [
    "#### 3. Создать массив из 10 единиц"
   ]
  },
  {
   "cell_type": "code",
   "execution_count": 5,
   "metadata": {
    "colab": {
     "base_uri": "https://localhost:8080/"
    },
    "collapsed": true,
    "id": "IaEIqoawkk68",
    "outputId": "ea805829-fccc-4f69-a8ed-e969da725447"
   },
   "outputs": [
    {
     "data": {
      "text/plain": [
       "array([1., 1., 1., 1., 1., 1., 1., 1., 1., 1.])"
      ]
     },
     "execution_count": 5,
     "metadata": {},
     "output_type": "execute_result"
    }
   ],
   "source": [
    "a = np.ones((1,10))# Ваш код\n",
    "a.reshape(-1)"
   ]
  },
  {
   "cell_type": "code",
   "execution_count": null,
   "metadata": {
    "id": "GNwIr3S9kk69",
    "outputId": "ec2f0555-7aaa-433c-88ce-9a0c170012fb"
   },
   "outputs": [
    {
     "data": {
      "text/plain": [
       "array([1., 1., 1., 1., 1., 1., 1., 1., 1., 1.])"
      ]
     },
     "execution_count": 3,
     "metadata": {},
     "output_type": "execute_result"
    }
   ],
   "source": [
    "# не пишите код в этой ячейке"
   ]
  },
  {
   "cell_type": "markdown",
   "metadata": {
    "id": "hi_dpg5-kk6-"
   },
   "source": [
    "#### 4. Создать массив из  10 пятерок"
   ]
  },
  {
   "cell_type": "code",
   "execution_count": 6,
   "metadata": {
    "colab": {
     "base_uri": "https://localhost:8080/"
    },
    "collapsed": true,
    "id": "rXtL8aRpkk6_",
    "outputId": "aa782d56-2224-47cd-b9a1-a136cec002c9"
   },
   "outputs": [
    {
     "data": {
      "text/plain": [
       "array([5., 5., 5., 5., 5., 5., 5., 5., 5., 5.])"
      ]
     },
     "execution_count": 6,
     "metadata": {},
     "output_type": "execute_result"
    }
   ],
   "source": [
    "a = 5 * np.ones((1,10))\n",
    "a.reshape(-1)"
   ]
  },
  {
   "cell_type": "code",
   "execution_count": null,
   "metadata": {
    "id": "F1Dv-EQBkk6_",
    "outputId": "131bdccc-fad1-4dea-8f50-b9af7479d4c8"
   },
   "outputs": [
    {
     "data": {
      "text/plain": [
       "array([5., 5., 5., 5., 5., 5., 5., 5., 5., 5.])"
      ]
     },
     "execution_count": 4,
     "metadata": {},
     "output_type": "execute_result"
    }
   ],
   "source": [
    "# не пишите код в этой ячейке"
   ]
  },
  {
   "cell_type": "markdown",
   "metadata": {
    "id": "uiCHjVU4kk6_"
   },
   "source": [
    "#### 5. Создать массив из целых чисел от 10 до 50"
   ]
  },
  {
   "cell_type": "code",
   "execution_count": 7,
   "metadata": {
    "colab": {
     "base_uri": "https://localhost:8080/"
    },
    "collapsed": true,
    "id": "OoSZlAjWkk7A",
    "outputId": "85a85dbb-9436-4af0-dd56-ebe78e8bbfc5"
   },
   "outputs": [
    {
     "data": {
      "text/plain": [
       "array([10, 11, 12, 13, 14, 15, 16, 17, 18, 19, 20, 21, 22, 23, 24, 25, 26,\n",
       "       27, 28, 29, 30, 31, 32, 33, 34, 35, 36, 37, 38, 39, 40, 41, 42, 43,\n",
       "       44, 45, 46, 47, 48, 49, 50])"
      ]
     },
     "execution_count": 7,
     "metadata": {},
     "output_type": "execute_result"
    }
   ],
   "source": [
    "np.arange(10,51)"
   ]
  },
  {
   "cell_type": "code",
   "execution_count": null,
   "metadata": {
    "id": "syrAs8kwkk7B",
    "outputId": "def56a9e-f4ff-45d5-a03d-e947216a01dd"
   },
   "outputs": [
    {
     "data": {
      "text/plain": [
       "array([10, 11, 12, 13, 14, 15, 16, 17, 18, 19, 20, 21, 22, 23, 24, 25, 26,\n",
       "       27, 28, 29, 30, 31, 32, 33, 34, 35, 36, 37, 38, 39, 40, 41, 42, 43,\n",
       "       44, 45, 46, 47, 48, 49, 50])"
      ]
     },
     "execution_count": 5,
     "metadata": {},
     "output_type": "execute_result"
    }
   ],
   "source": [
    "# не пишите код в этой ячейке"
   ]
  },
  {
   "cell_type": "markdown",
   "metadata": {
    "id": "YNcKUYEjkk7C"
   },
   "source": [
    "#### 6. Создать массив из четных числел от 10 до 50"
   ]
  },
  {
   "cell_type": "code",
   "execution_count": 8,
   "metadata": {
    "colab": {
     "base_uri": "https://localhost:8080/"
    },
    "collapsed": true,
    "id": "DIPcNxY1kk7C",
    "outputId": "869d485c-71c1-4368-8b62-d0c22db642a2"
   },
   "outputs": [
    {
     "data": {
      "text/plain": [
       "array([10, 12, 14, 16, 18, 20, 22, 24, 26, 28, 30, 32, 34, 36, 38, 40, 42,\n",
       "       44, 46, 48, 50])"
      ]
     },
     "execution_count": 8,
     "metadata": {},
     "output_type": "execute_result"
    }
   ],
   "source": [
    "np.arange(10,51,2)"
   ]
  },
  {
   "cell_type": "code",
   "execution_count": null,
   "metadata": {
    "id": "b5TxwvXGkk7D",
    "outputId": "db641e9c-fe5c-458f-ada6-5820832fdc2d"
   },
   "outputs": [
    {
     "data": {
      "text/plain": [
       "array([10, 12, 14, 16, 18, 20, 22, 24, 26, 28, 30, 32, 34, 36, 38, 40, 42,\n",
       "       44, 46, 48, 50])"
      ]
     },
     "execution_count": 6,
     "metadata": {},
     "output_type": "execute_result"
    }
   ],
   "source": [
    "# не пишите код в этой ячейке"
   ]
  },
  {
   "cell_type": "markdown",
   "metadata": {
    "id": "5vkLQ_fUkk7D"
   },
   "source": [
    "#### 7. Создать матрицу 3х3 с числами от 0 до 8"
   ]
  },
  {
   "cell_type": "code",
   "execution_count": 9,
   "metadata": {
    "colab": {
     "base_uri": "https://localhost:8080/"
    },
    "collapsed": true,
    "id": "zufAo95hkk7D",
    "outputId": "536cda59-2050-4570-bca0-6bfa44b3323d"
   },
   "outputs": [
    {
     "data": {
      "text/plain": [
       "array([[0, 1, 2],\n",
       "       [3, 4, 5],\n",
       "       [6, 7, 8]])"
      ]
     },
     "execution_count": 9,
     "metadata": {},
     "output_type": "execute_result"
    }
   ],
   "source": [
    "b = np.arange(0,9)\n",
    "b.reshape(3,3)"
   ]
  },
  {
   "cell_type": "code",
   "execution_count": null,
   "metadata": {
    "id": "rOpA_7cHkk7E",
    "outputId": "c570b299-cbed-4b84-ea5a-d4547d9ae3c1"
   },
   "outputs": [
    {
     "data": {
      "text/plain": [
       "array([[0, 1, 2],\n",
       "       [3, 4, 5],\n",
       "       [6, 7, 8]])"
      ]
     },
     "execution_count": 7,
     "metadata": {},
     "output_type": "execute_result"
    }
   ],
   "source": [
    "# не пишите код в этой ячейке"
   ]
  },
  {
   "cell_type": "markdown",
   "metadata": {
    "id": "0HHz481Skk7E"
   },
   "source": [
    "#### 8. Создать единичную матрицу 3x3 "
   ]
  },
  {
   "cell_type": "code",
   "execution_count": 10,
   "metadata": {
    "colab": {
     "base_uri": "https://localhost:8080/"
    },
    "collapsed": true,
    "id": "kuqNta_pkk7E",
    "outputId": "c74d563e-b3f2-487e-994a-a3e7e8d0eb08"
   },
   "outputs": [
    {
     "data": {
      "text/plain": [
       "array([[1., 0., 0.],\n",
       "       [0., 1., 0.],\n",
       "       [0., 0., 1.]])"
      ]
     },
     "execution_count": 10,
     "metadata": {},
     "output_type": "execute_result"
    }
   ],
   "source": [
    "np.eye(3)"
   ]
  },
  {
   "cell_type": "code",
   "execution_count": null,
   "metadata": {
    "id": "VhTpnqx0kk7F",
    "outputId": "41f591fb-79fd-42de-b20c-f1af15a13f79"
   },
   "outputs": [
    {
     "data": {
      "text/plain": [
       "array([[1., 0., 0.],\n",
       "       [0., 1., 0.],\n",
       "       [0., 0., 1.]])"
      ]
     },
     "execution_count": 8,
     "metadata": {},
     "output_type": "execute_result"
    }
   ],
   "source": [
    "# не пишите код в этой ячейке"
   ]
  },
  {
   "cell_type": "markdown",
   "metadata": {
    "id": "ma2YN3JKkk7F"
   },
   "source": [
    "#### 9. Используйте NumPy для генерации случайного числа от 0 до 1\n",
    "<br>ПРИМЕЧАНИЕ. Значение вашего результата должно отличаться от приведенного ниже."
   ]
  },
  {
   "cell_type": "code",
   "execution_count": 12,
   "metadata": {
    "colab": {
     "base_uri": "https://localhost:8080/"
    },
    "collapsed": true,
    "id": "Xb8GANB7kk7F",
    "outputId": "b98d93bd-fd79-459e-dbe0-be6b5ebecbbf"
   },
   "outputs": [
    {
     "data": {
      "text/plain": [
       "array([0.67634575])"
      ]
     },
     "execution_count": 12,
     "metadata": {},
     "output_type": "execute_result"
    }
   ],
   "source": [
    "c = np.array(np.random.rand())\n",
    "c.reshape(-1)"
   ]
  },
  {
   "cell_type": "code",
   "execution_count": null,
   "metadata": {
    "id": "aKFrENpckk7F",
    "outputId": "0be0ec5d-6148-4535-91e0-f651ac27e4eb"
   },
   "outputs": [
    {
     "data": {
      "text/plain": [
       "array([0.65248055])"
      ]
     },
     "execution_count": 9,
     "metadata": {},
     "output_type": "execute_result"
    }
   ],
   "source": [
    "# не пишите код в этой ячейке"
   ]
  },
  {
   "cell_type": "markdown",
   "metadata": {
    "id": "eTulIYoDkk7F"
   },
   "source": [
    "#### Используйте NumPy для генерации массива из 25 случайных чисел, взятых из стандартного нормального распределения\n",
    "<br>ПРИМЕЧАНИЕ. Значение вашего результата должно отличаться от приведенного ниже."
   ]
  },
  {
   "cell_type": "code",
   "execution_count": 13,
   "metadata": {
    "colab": {
     "base_uri": "https://localhost:8080/"
    },
    "collapsed": true,
    "id": "lflpOdKNkk7G",
    "outputId": "35cc1b63-e51c-417c-ff59-802f4bc34952"
   },
   "outputs": [
    {
     "data": {
      "text/plain": [
       "array([ 1.71691053,  0.43610736, -0.25383886, -0.04328859, -0.03574254,\n",
       "        0.54247379,  0.24917976, -0.40047025,  0.79270053,  1.12986445,\n",
       "       -1.03812253, -0.45303754,  1.07212012,  0.58531396, -0.88595364,\n",
       "       -0.32296886,  0.15430406, -0.22480521, -0.48580828,  1.00655634,\n",
       "       -1.22766503,  1.50450364, -0.44847202, -1.50467202,  0.7479585 ])"
      ]
     },
     "execution_count": 13,
     "metadata": {},
     "output_type": "execute_result"
    }
   ],
   "source": [
    "np.random.normal(0,1,25)"
   ]
  },
  {
   "cell_type": "code",
   "execution_count": null,
   "metadata": {
    "id": "mx9WcWiRkk7G",
    "outputId": "7df176ad-3291-4a32-86f1-700220208d17"
   },
   "outputs": [
    {
     "data": {
      "text/plain": [
       "array([ 1.80076712, -1.12375847, -0.98524305,  0.11673573,  1.96346762,\n",
       "        1.81378592, -0.33790771,  0.85012656,  0.0100703 , -0.91005957,\n",
       "        0.29064366,  0.69906357,  0.1774377 , -0.61958694, -0.45498611,\n",
       "       -2.0804685 , -0.06778549,  1.06403819,  0.4311884 , -1.09853837,\n",
       "        1.11980469, -0.48751963,  1.32517611, -0.61775122, -0.00622865])"
      ]
     },
     "execution_count": 10,
     "metadata": {},
     "output_type": "execute_result"
    }
   ],
   "source": [
    "# не пишите код в этой ячейке"
   ]
  },
  {
   "cell_type": "markdown",
   "metadata": {
    "id": "kqPaWqSNkk7G"
   },
   "source": [
    "#### 11. Создайте следующую матрицу:"
   ]
  },
  {
   "cell_type": "code",
   "execution_count": 18,
   "metadata": {
    "colab": {
     "base_uri": "https://localhost:8080/"
    },
    "collapsed": true,
    "id": "JIG9IXQbkk7H",
    "outputId": "41e35ae4-6da3-4cb3-c169-d5c8ff5817fb"
   },
   "outputs": [
    {
     "data": {
      "text/plain": [
       "array([[0.01, 0.02, 0.03, 0.04, 0.05, 0.06, 0.07, 0.08, 0.09, 0.1 ],\n",
       "       [0.11, 0.12, 0.13, 0.14, 0.15, 0.16, 0.17, 0.18, 0.19, 0.2 ],\n",
       "       [0.21, 0.22, 0.23, 0.24, 0.25, 0.26, 0.27, 0.28, 0.29, 0.3 ],\n",
       "       [0.31, 0.32, 0.33, 0.34, 0.35, 0.36, 0.37, 0.38, 0.39, 0.4 ],\n",
       "       [0.41, 0.42, 0.43, 0.44, 0.45, 0.46, 0.47, 0.48, 0.49, 0.5 ],\n",
       "       [0.51, 0.52, 0.53, 0.54, 0.55, 0.56, 0.57, 0.58, 0.59, 0.6 ],\n",
       "       [0.61, 0.62, 0.63, 0.64, 0.65, 0.66, 0.67, 0.68, 0.69, 0.7 ],\n",
       "       [0.71, 0.72, 0.73, 0.74, 0.75, 0.76, 0.77, 0.78, 0.79, 0.8 ],\n",
       "       [0.81, 0.82, 0.83, 0.84, 0.85, 0.86, 0.87, 0.88, 0.89, 0.9 ],\n",
       "       [0.91, 0.92, 0.93, 0.94, 0.95, 0.96, 0.97, 0.98, 0.99, 1.  ]])"
      ]
     },
     "execution_count": 18,
     "metadata": {},
     "output_type": "execute_result"
    }
   ],
   "source": [
    "np.arange(0.01,1.01,0.01).reshape(10,10)\n"
   ]
  },
  {
   "cell_type": "code",
   "execution_count": null,
   "metadata": {
    "id": "WsO7e5xokk7H",
    "outputId": "cbff39c2-44d1-4418-d0fb-98099b969225"
   },
   "outputs": [
    {
     "data": {
      "text/plain": [
       "array([[0.01, 0.02, 0.03, 0.04, 0.05, 0.06, 0.07, 0.08, 0.09, 0.1 ],\n",
       "       [0.11, 0.12, 0.13, 0.14, 0.15, 0.16, 0.17, 0.18, 0.19, 0.2 ],\n",
       "       [0.21, 0.22, 0.23, 0.24, 0.25, 0.26, 0.27, 0.28, 0.29, 0.3 ],\n",
       "       [0.31, 0.32, 0.33, 0.34, 0.35, 0.36, 0.37, 0.38, 0.39, 0.4 ],\n",
       "       [0.41, 0.42, 0.43, 0.44, 0.45, 0.46, 0.47, 0.48, 0.49, 0.5 ],\n",
       "       [0.51, 0.52, 0.53, 0.54, 0.55, 0.56, 0.57, 0.58, 0.59, 0.6 ],\n",
       "       [0.61, 0.62, 0.63, 0.64, 0.65, 0.66, 0.67, 0.68, 0.69, 0.7 ],\n",
       "       [0.71, 0.72, 0.73, 0.74, 0.75, 0.76, 0.77, 0.78, 0.79, 0.8 ],\n",
       "       [0.81, 0.82, 0.83, 0.84, 0.85, 0.86, 0.87, 0.88, 0.89, 0.9 ],\n",
       "       [0.91, 0.92, 0.93, 0.94, 0.95, 0.96, 0.97, 0.98, 0.99, 1.  ]])"
      ]
     },
     "execution_count": 11,
     "metadata": {},
     "output_type": "execute_result"
    }
   ],
   "source": [
    "# не пишите код в этой ячейке"
   ]
  },
  {
   "cell_type": "markdown",
   "metadata": {
    "id": "iaX3ySNNkk7H"
   },
   "source": [
    "#### 12. Создайте массив из 20 линейно расположенных точек между 0 и 1:"
   ]
  },
  {
   "cell_type": "code",
   "execution_count": 15,
   "metadata": {
    "colab": {
     "base_uri": "https://localhost:8080/"
    },
    "collapsed": true,
    "id": "RpXWR-1Dkk7I",
    "outputId": "c19e021c-3861-49ea-b9c8-67d0e9e5e59f"
   },
   "outputs": [
    {
     "data": {
      "text/plain": [
       "array([0.        , 0.05263158, 0.10526316, 0.15789474, 0.21052632,\n",
       "       0.26315789, 0.31578947, 0.36842105, 0.42105263, 0.47368421,\n",
       "       0.52631579, 0.57894737, 0.63157895, 0.68421053, 0.73684211,\n",
       "       0.78947368, 0.84210526, 0.89473684, 0.94736842, 1.        ])"
      ]
     },
     "execution_count": 15,
     "metadata": {},
     "output_type": "execute_result"
    }
   ],
   "source": [
    "np.linspace(0,1,20)"
   ]
  },
  {
   "cell_type": "code",
   "execution_count": null,
   "metadata": {
    "id": "s_7Zl8OKkk7I",
    "outputId": "fdc71825-3a80-4c9b-c9b2-3e7b47d2c152"
   },
   "outputs": [
    {
     "data": {
      "text/plain": [
       "array([0.        , 0.05263158, 0.10526316, 0.15789474, 0.21052632,\n",
       "       0.26315789, 0.31578947, 0.36842105, 0.42105263, 0.47368421,\n",
       "       0.52631579, 0.57894737, 0.63157895, 0.68421053, 0.73684211,\n",
       "       0.78947368, 0.84210526, 0.89473684, 0.94736842, 1.        ])"
      ]
     },
     "execution_count": 12,
     "metadata": {},
     "output_type": "execute_result"
    }
   ],
   "source": [
    "# не пишите код в этой ячейке"
   ]
  },
  {
   "cell_type": "markdown",
   "metadata": {
    "id": "3DMYxfY6kk7I"
   },
   "source": [
    "## Numpy индексация и выборка\n",
    "\n",
    "Дана стартовая матрица (обязательно запустите ячейку ниже!). Вам необходимо повторить выходные результаты матрицы:"
   ]
  },
  {
   "cell_type": "code",
   "execution_count": 21,
   "metadata": {
    "colab": {
     "base_uri": "https://localhost:8080/"
    },
    "id": "PoAqYa5gkk7I",
    "outputId": "06a5f6e1-8c6d-4a42-b448-c8e0b453763e"
   },
   "outputs": [
    {
     "data": {
      "text/plain": [
       "array([[ 1,  2,  3,  4,  5],\n",
       "       [ 6,  7,  8,  9, 10],\n",
       "       [11, 12, 13, 14, 15],\n",
       "       [16, 17, 18, 19, 20],\n",
       "       [21, 22, 23, 24, 25]])"
      ]
     },
     "execution_count": 21,
     "metadata": {},
     "output_type": "execute_result"
    }
   ],
   "source": [
    "# это наша стартовая матрица\n",
    "mat = np.arange(1,26).reshape(5,5)\n",
    "mat"
   ]
  },
  {
   "cell_type": "markdown",
   "metadata": {
    "id": "ghQwsUhxkk7J"
   },
   "source": [
    "#### 13. Напишите код, который воспроизводит вывод, показанный ниже.\n"
   ]
  },
  {
   "cell_type": "code",
   "execution_count": 22,
   "metadata": {
    "colab": {
     "base_uri": "https://localhost:8080/"
    },
    "collapsed": true,
    "id": "9ZITmv9Bkk7J",
    "outputId": "f5832666-d7d3-4826-c6c0-747fff0b3324"
   },
   "outputs": [
    {
     "data": {
      "text/plain": [
       "array([[12, 13, 14, 15],\n",
       "       [17, 18, 19, 20],\n",
       "       [22, 23, 24, 25]])"
      ]
     },
     "execution_count": 22,
     "metadata": {},
     "output_type": "execute_result"
    }
   ],
   "source": [
    "# CODE HERE\n",
    "mat[2:,1:]"
   ]
  },
  {
   "cell_type": "code",
   "execution_count": null,
   "metadata": {
    "id": "IGwkV_UZkk7K",
    "outputId": "57d75328-f45d-44b7-a3b9-914f9a3770d2"
   },
   "outputs": [
    {
     "data": {
      "text/plain": [
       "array([[12, 13, 14, 15],\n",
       "       [17, 18, 19, 20],\n",
       "       [22, 23, 24, 25]])"
      ]
     },
     "execution_count": 14,
     "metadata": {},
     "output_type": "execute_result"
    }
   ],
   "source": [
    "# не пишите код в этой ячейке"
   ]
  },
  {
   "cell_type": "markdown",
   "metadata": {
    "id": "Vvk7DLjRkk7M"
   },
   "source": [
    "#### 14. Напишите код, который воспроизводит вывод, показанный ниже."
   ]
  },
  {
   "cell_type": "code",
   "execution_count": 23,
   "metadata": {
    "colab": {
     "base_uri": "https://localhost:8080/"
    },
    "id": "N6SsQv5vkk7N",
    "outputId": "d5cb1c40-d986-4f88-c7e0-961348b657db"
   },
   "outputs": [
    {
     "data": {
      "text/plain": [
       "20"
      ]
     },
     "execution_count": 23,
     "metadata": {},
     "output_type": "execute_result"
    }
   ],
   "source": [
    "mat[3,4]"
   ]
  },
  {
   "cell_type": "code",
   "execution_count": null,
   "metadata": {
    "id": "JcgJeEWhkk7N",
    "outputId": "197ed6a1-a246-4639-aff6-ca16bece6cd6"
   },
   "outputs": [
    {
     "data": {
      "text/plain": [
       "20"
      ]
     },
     "execution_count": 15,
     "metadata": {},
     "output_type": "execute_result"
    }
   ],
   "source": [
    "# не пишите код в этой ячейке"
   ]
  },
  {
   "cell_type": "markdown",
   "metadata": {
    "id": "eJnbdGNWkk7N"
   },
   "source": [
    "#### 15. Напишите код, который воспроизводит вывод, показанный ниже."
   ]
  },
  {
   "cell_type": "code",
   "execution_count": 24,
   "metadata": {
    "colab": {
     "base_uri": "https://localhost:8080/"
    },
    "id": "0cELaDWKkk7O",
    "outputId": "fa4f94b6-9e48-4d69-890c-cc3843d4a772"
   },
   "outputs": [
    {
     "data": {
      "text/plain": [
       "array([[ 2],\n",
       "       [ 7],\n",
       "       [12]])"
      ]
     },
     "execution_count": 24,
     "metadata": {},
     "output_type": "execute_result"
    }
   ],
   "source": [
    "mat[:3,1].reshape(3,-1)"
   ]
  },
  {
   "cell_type": "code",
   "execution_count": null,
   "metadata": {
    "id": "jkYW-FW2kk7O",
    "outputId": "53be5e47-db6b-4d3e-ed50-2c15924a9de7"
   },
   "outputs": [
    {
     "data": {
      "text/plain": [
       "array([[ 2],\n",
       "       [ 7],\n",
       "       [12]])"
      ]
     },
     "execution_count": 16,
     "metadata": {},
     "output_type": "execute_result"
    }
   ],
   "source": [
    "# не пишите код в этой ячейке"
   ]
  },
  {
   "cell_type": "markdown",
   "metadata": {
    "id": "UAsj121Gkk7O"
   },
   "source": [
    "#### 16. Напишите код, который воспроизводит вывод, показанный ниже."
   ]
  },
  {
   "cell_type": "code",
   "execution_count": 25,
   "metadata": {
    "colab": {
     "base_uri": "https://localhost:8080/"
    },
    "id": "SGL2c4twkk7O",
    "outputId": "ede3e853-586b-49cd-d6bc-4b69a680c78b"
   },
   "outputs": [
    {
     "data": {
      "text/plain": [
       "array([21, 22, 23, 24, 25])"
      ]
     },
     "execution_count": 25,
     "metadata": {},
     "output_type": "execute_result"
    }
   ],
   "source": [
    "mat[4,:]"
   ]
  },
  {
   "cell_type": "code",
   "execution_count": null,
   "metadata": {
    "id": "XV1MtZ0Ekk7P",
    "outputId": "bccb9671-6f95-403c-d801-076067d9988e"
   },
   "outputs": [
    {
     "data": {
      "text/plain": [
       "array([21, 22, 23, 24, 25])"
      ]
     },
     "execution_count": 17,
     "metadata": {},
     "output_type": "execute_result"
    }
   ],
   "source": [
    "# не пишите код в этой ячейке"
   ]
  },
  {
   "cell_type": "markdown",
   "metadata": {
    "id": "4EF_yixWkk7P"
   },
   "source": [
    "#### 17. Напишите код, который воспроизводит вывод, показанный ниже."
   ]
  },
  {
   "cell_type": "code",
   "execution_count": 26,
   "metadata": {
    "colab": {
     "base_uri": "https://localhost:8080/"
    },
    "id": "m3sO-EGFkk7Q",
    "outputId": "eb666847-a6b0-4ac4-92aa-5b37fe88b630"
   },
   "outputs": [
    {
     "data": {
      "text/plain": [
       "array([[16, 17, 18, 19, 20],\n",
       "       [21, 22, 23, 24, 25]])"
      ]
     },
     "execution_count": 26,
     "metadata": {},
     "output_type": "execute_result"
    }
   ],
   "source": [
    "mat[3:,:]"
   ]
  },
  {
   "cell_type": "code",
   "execution_count": null,
   "metadata": {
    "id": "S1jDHAujkk7Q",
    "outputId": "9a2377f4-d406-427d-e675-487bbf43898c"
   },
   "outputs": [
    {
     "data": {
      "text/plain": [
       "array([[16, 17, 18, 19, 20],\n",
       "       [21, 22, 23, 24, 25]])"
      ]
     },
     "execution_count": 18,
     "metadata": {},
     "output_type": "execute_result"
    }
   ],
   "source": [
    "# не пишите код в этой ячейке"
   ]
  },
  {
   "cell_type": "markdown",
   "metadata": {
    "id": "UaC4dk9wkk7Q"
   },
   "source": [
    "## Операции NumPy "
   ]
  },
  {
   "cell_type": "markdown",
   "metadata": {
    "id": "Wk0cpzsgkk7R"
   },
   "source": [
    "#### 18. Получить сумму всех значений в матрице mat"
   ]
  },
  {
   "cell_type": "code",
   "execution_count": 27,
   "metadata": {
    "colab": {
     "base_uri": "https://localhost:8080/"
    },
    "collapsed": true,
    "id": "1jTxCGXzkk7R",
    "outputId": "873ae22f-050d-4962-f165-89a0bbebc35f"
   },
   "outputs": [
    {
     "data": {
      "text/plain": [
       "325"
      ]
     },
     "execution_count": 27,
     "metadata": {},
     "output_type": "execute_result"
    }
   ],
   "source": [
    "mat.sum()"
   ]
  },
  {
   "cell_type": "code",
   "execution_count": null,
   "metadata": {
    "id": "gcYWXIbIkk7S",
    "outputId": "195e86a1-c80b-4d4d-b081-afe45b412043"
   },
   "outputs": [
    {
     "data": {
      "text/plain": [
       "325"
      ]
     },
     "execution_count": 19,
     "metadata": {},
     "output_type": "execute_result"
    }
   ],
   "source": [
    "# не пишите код в этой ячейке"
   ]
  },
  {
   "cell_type": "markdown",
   "metadata": {
    "id": "EK5uv4X0kk7S"
   },
   "source": [
    "#### 19. Получить стандартное отклонение в матрице mat"
   ]
  },
  {
   "cell_type": "code",
   "execution_count": 28,
   "metadata": {
    "colab": {
     "base_uri": "https://localhost:8080/"
    },
    "collapsed": true,
    "id": "AMEYQwLPkk7T",
    "outputId": "b54cd42a-6452-467c-e7aa-7da5db20f602"
   },
   "outputs": [
    {
     "data": {
      "text/plain": [
       "7.211102550927978"
      ]
     },
     "execution_count": 28,
     "metadata": {},
     "output_type": "execute_result"
    }
   ],
   "source": [
    "mat.std()"
   ]
  },
  {
   "cell_type": "code",
   "execution_count": null,
   "metadata": {
    "id": "zql9sDrjkk7T",
    "outputId": "72c4f19d-974f-47cb-bd7d-ff7083a3855b"
   },
   "outputs": [
    {
     "data": {
      "text/plain": [
       "7.211102550927978"
      ]
     },
     "execution_count": 20,
     "metadata": {},
     "output_type": "execute_result"
    }
   ],
   "source": [
    "# не пишите код в этой ячейке"
   ]
  },
  {
   "cell_type": "markdown",
   "metadata": {
    "id": "kgiIschvkk7T"
   },
   "source": [
    "#### 20. Получить сумму значений в колонках в матрице mat"
   ]
  },
  {
   "cell_type": "code",
   "execution_count": 29,
   "metadata": {
    "colab": {
     "base_uri": "https://localhost:8080/"
    },
    "collapsed": true,
    "id": "w0DShGKDkk7T",
    "outputId": "6d0900dd-3e00-4277-ae71-f79b61a7f0b0"
   },
   "outputs": [
    {
     "data": {
      "text/plain": [
       "array([55, 60, 65, 70, 75])"
      ]
     },
     "execution_count": 29,
     "metadata": {},
     "output_type": "execute_result"
    }
   ],
   "source": [
    "mat.sum(axis=0)"
   ]
  },
  {
   "cell_type": "code",
   "execution_count": null,
   "metadata": {
    "id": "UnLyf1yWkk7U",
    "outputId": "64bb5c64-e0ba-449e-b8d6-a0e894ee2f59"
   },
   "outputs": [
    {
     "data": {
      "text/plain": [
       "array([55, 60, 65, 70, 75])"
      ]
     },
     "execution_count": 21,
     "metadata": {},
     "output_type": "execute_result"
    }
   ],
   "source": [
    "# не пишите код в этой ячейке"
   ]
  },
  {
   "cell_type": "markdown",
   "metadata": {
    "id": "YyZDPwQJkk7U"
   },
   "source": [
    "## Бонусный вопрос\n",
    "\n",
    "Есть ли способ гарантировать, что мы всегда получим одинаковые случайные числа?"
   ]
  },
  {
   "cell_type": "code",
   "execution_count": 30,
   "metadata": {
    "collapsed": true,
    "id": "KNt4tZm_kk7U"
   },
   "outputs": [],
   "source": [
    "np.random.seed()"
   ]
  }
 ],
 "metadata": {
  "anaconda-cloud": {},
  "colab": {
   "name": "NumPy-Exercises.ipynb",
   "provenance": []
  },
  "kernelspec": {
   "display_name": "Python 3 (ipykernel)",
   "language": "python",
   "name": "python3"
  },
  "language_info": {
   "codemirror_mode": {
    "name": "ipython",
    "version": 3
   },
   "file_extension": ".py",
   "mimetype": "text/x-python",
   "name": "python",
   "nbconvert_exporter": "python",
   "pygments_lexer": "ipython3",
   "version": "3.9.7"
  }
 },
 "nbformat": 4,
 "nbformat_minor": 1
}
